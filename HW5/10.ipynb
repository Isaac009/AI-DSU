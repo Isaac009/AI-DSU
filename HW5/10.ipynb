{
 "cells": [
  {
   "cell_type": "code",
   "execution_count": 2,
   "metadata": {},
   "outputs": [],
   "source": [
    "import os\n",
    "import pandas as pd\n",
    "import numpy as np\n",
    "from sklearn.feature_extraction.text import CountVectorizer\n",
    "from sklearn.naive_bayes import MultinomialNB"
   ]
  },
  {
   "cell_type": "code",
   "execution_count": 6,
   "metadata": {},
   "outputs": [],
   "source": [
    "root_dir = './data/'\n",
    "train_df = pd.read_csv(os.path.join(root_dir,'train.csv'), sep='\\t')\n",
    "x_train, y_train = train_df['Phrase'], train_df['Sentiment']"
   ]
  },
  {
   "cell_type": "code",
   "execution_count": 7,
   "metadata": {},
   "outputs": [],
   "source": [
    "test_df = pd.read_csv(os.path.join(root_dir, 'test.csv'), sep='\\t')\n",
    "label = pd.read_csv(os.path.join(root_dir,'sent_ana_test.csv'))\n",
    "x_test, y_test = test_df['Phrase'], label['Sentiment']"
   ]
  },
  {
   "cell_type": "code",
   "execution_count": 8,
   "metadata": {},
   "outputs": [],
   "source": [
    "from nltk.tokenize import RegexpTokenizer\n",
    "token = RegexpTokenizer(r'[a-zA-Z0-9]+')\n",
    "cv = CountVectorizer(stop_words='english',ngram_range = (1,1),tokenizer = token.tokenize)"
   ]
  },
  {
   "cell_type": "code",
   "execution_count": 9,
   "metadata": {},
   "outputs": [],
   "source": [
    "# vec = CountVectorizer(stop_words='english')\n",
    "x_train_vec = cv.fit_transform(x_train).toarray()\n",
    "x_test_vec = cv.transform(x_test).toarray()"
   ]
  },
  {
   "cell_type": "code",
   "execution_count": 10,
   "metadata": {},
   "outputs": [
    {
     "name": "stdout",
     "output_type": "stream",
     "text": [
      "Number of mislabeled points out of a total 66292 points : 22859\n",
      "Accuracy Score:  0.655177095275448\n"
     ]
    }
   ],
   "source": [
    "gnb = MultinomialNB()\n",
    "y_pred = gnb.fit(x_train_vec, y_train).predict(x_test_vec)\n",
    "\n",
    "print(\"Number of mislabeled points out of a total %d points : %d\" % (x_test.shape[0], (y_test != y_pred).sum()))\n",
    "print('Accuracy Score: ', gnb.score(x_test_vec, y_test))"
   ]
  }
 ],
 "metadata": {
  "kernelspec": {
   "display_name": "Python 3.8.10 ('basic_env')",
   "language": "python",
   "name": "python3"
  },
  "language_info": {
   "codemirror_mode": {
    "name": "ipython",
    "version": 3
   },
   "file_extension": ".py",
   "mimetype": "text/x-python",
   "name": "python",
   "nbconvert_exporter": "python",
   "pygments_lexer": "ipython3",
   "version": "3.8.10"
  },
  "orig_nbformat": 4,
  "vscode": {
   "interpreter": {
    "hash": "7f1989ba7916cd05840b67fc8bf5b4dd30de2c63c3f6c3dda08dec36d149e26a"
   }
  }
 },
 "nbformat": 4,
 "nbformat_minor": 2
}
